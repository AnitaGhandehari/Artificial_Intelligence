{
  "nbformat": 4,
  "nbformat_minor": 0,
  "metadata": {
    "colab": {
      "name": "Copy of Recitation.ipynb",
      "provenance": []
    },
    "kernelspec": {
      "name": "python3",
      "display_name": "Python 3"
    },
    "accelerator": "GPU"
  },
  "cells": [
    {
      "cell_type": "code",
      "metadata": {
        "id": "QjrmfH-mJ9Bm",
        "colab_type": "code",
        "colab": {
          "base_uri": "https://localhost:8080/",
          "height": 446
        },
        "outputId": "d9ccd7f6-ef0d-42ee-c08f-2e239bf11ed6"
      },
      "source": [
        "pip install hazm"
      ],
      "execution_count": 1,
      "outputs": [
        {
          "output_type": "stream",
          "text": [
            "Collecting hazm\n",
            "\u001b[?25l  Downloading https://files.pythonhosted.org/packages/22/13/5a7074bc11d20dbbb46239349ac3f85f7edc148b4cf68e9b8c2f8263830c/hazm-0.7.0-py3-none-any.whl (316kB)\n",
            "\r\u001b[K     |█                               | 10kB 21.2MB/s eta 0:00:01\r\u001b[K     |██                              | 20kB 6.0MB/s eta 0:00:01\r\u001b[K     |███                             | 30kB 7.2MB/s eta 0:00:01\r\u001b[K     |████▏                           | 40kB 8.0MB/s eta 0:00:01\r\u001b[K     |█████▏                          | 51kB 6.0MB/s eta 0:00:01\r\u001b[K     |██████▏                         | 61kB 6.0MB/s eta 0:00:01\r\u001b[K     |███████▎                        | 71kB 5.8MB/s eta 0:00:01\r\u001b[K     |████████▎                       | 81kB 6.1MB/s eta 0:00:01\r\u001b[K     |█████████▎                      | 92kB 5.9MB/s eta 0:00:01\r\u001b[K     |██████████▍                     | 102kB 5.9MB/s eta 0:00:01\r\u001b[K     |███████████▍                    | 112kB 5.9MB/s eta 0:00:01\r\u001b[K     |████████████▍                   | 122kB 5.9MB/s eta 0:00:01\r\u001b[K     |█████████████▌                  | 133kB 5.9MB/s eta 0:00:01\r\u001b[K     |██████████████▌                 | 143kB 5.9MB/s eta 0:00:01\r\u001b[K     |███████████████▌                | 153kB 5.9MB/s eta 0:00:01\r\u001b[K     |████████████████▋               | 163kB 5.9MB/s eta 0:00:01\r\u001b[K     |█████████████████▋              | 174kB 5.9MB/s eta 0:00:01\r\u001b[K     |██████████████████▋             | 184kB 5.9MB/s eta 0:00:01\r\u001b[K     |███████████████████▋            | 194kB 5.9MB/s eta 0:00:01\r\u001b[K     |████████████████████▊           | 204kB 5.9MB/s eta 0:00:01\r\u001b[K     |█████████████████████▊          | 215kB 5.9MB/s eta 0:00:01\r\u001b[K     |██████████████████████▊         | 225kB 5.9MB/s eta 0:00:01\r\u001b[K     |███████████████████████▉        | 235kB 5.9MB/s eta 0:00:01\r\u001b[K     |████████████████████████▉       | 245kB 5.9MB/s eta 0:00:01\r\u001b[K     |█████████████████████████▉      | 256kB 5.9MB/s eta 0:00:01\r\u001b[K     |███████████████████████████     | 266kB 5.9MB/s eta 0:00:01\r\u001b[K     |████████████████████████████    | 276kB 5.9MB/s eta 0:00:01\r\u001b[K     |█████████████████████████████   | 286kB 5.9MB/s eta 0:00:01\r\u001b[K     |██████████████████████████████  | 296kB 5.9MB/s eta 0:00:01\r\u001b[K     |███████████████████████████████ | 307kB 5.9MB/s eta 0:00:01\r\u001b[K     |████████████████████████████████| 317kB 5.9MB/s \n",
            "\u001b[?25hCollecting nltk==3.3\n",
            "\u001b[?25l  Downloading https://files.pythonhosted.org/packages/50/09/3b1755d528ad9156ee7243d52aa5cd2b809ef053a0f31b53d92853dd653a/nltk-3.3.0.zip (1.4MB)\n",
            "\r\u001b[K     |▎                               | 10kB 26.1MB/s eta 0:00:01\r\u001b[K     |▌                               | 20kB 33.1MB/s eta 0:00:01\r\u001b[K     |▊                               | 30kB 37.9MB/s eta 0:00:01\r\u001b[K     |█                               | 40kB 12.5MB/s eta 0:00:01\r\u001b[K     |█▏                              | 51kB 11.2MB/s eta 0:00:01\r\u001b[K     |█▍                              | 61kB 12.9MB/s eta 0:00:01\r\u001b[K     |█▋                              | 71kB 13.2MB/s eta 0:00:01\r\u001b[K     |█▉                              | 81kB 14.5MB/s eta 0:00:01\r\u001b[K     |██▏                             | 92kB 12.4MB/s eta 0:00:01\r\u001b[K     |██▍                             | 102kB 11.7MB/s eta 0:00:01\r\u001b[K     |██▋                             | 112kB 11.7MB/s eta 0:00:01\r\u001b[K     |██▉                             | 122kB 11.7MB/s eta 0:00:01\r\u001b[K     |███                             | 133kB 11.7MB/s eta 0:00:01\r\u001b[K     |███▎                            | 143kB 11.7MB/s eta 0:00:01\r\u001b[K     |███▌                            | 153kB 11.7MB/s eta 0:00:01\r\u001b[K     |███▊                            | 163kB 11.7MB/s eta 0:00:01\r\u001b[K     |████                            | 174kB 11.7MB/s eta 0:00:01\r\u001b[K     |████▎                           | 184kB 11.7MB/s eta 0:00:01\r\u001b[K     |████▌                           | 194kB 11.7MB/s eta 0:00:01\r\u001b[K     |████▊                           | 204kB 11.7MB/s eta 0:00:01\r\u001b[K     |█████                           | 215kB 11.7MB/s eta 0:00:01\r\u001b[K     |█████▏                          | 225kB 11.7MB/s eta 0:00:01\r\u001b[K     |█████▍                          | 235kB 11.7MB/s eta 0:00:01\r\u001b[K     |█████▋                          | 245kB 11.7MB/s eta 0:00:01\r\u001b[K     |██████                          | 256kB 11.7MB/s eta 0:00:01\r\u001b[K     |██████▏                         | 266kB 11.7MB/s eta 0:00:01\r\u001b[K     |██████▍                         | 276kB 11.7MB/s eta 0:00:01\r\u001b[K     |██████▋                         | 286kB 11.7MB/s eta 0:00:01\r\u001b[K     |██████▉                         | 296kB 11.7MB/s eta 0:00:01\r\u001b[K     |███████                         | 307kB 11.7MB/s eta 0:00:01\r\u001b[K     |███████▎                        | 317kB 11.7MB/s eta 0:00:01\r\u001b[K     |███████▌                        | 327kB 11.7MB/s eta 0:00:01\r\u001b[K     |███████▊                        | 337kB 11.7MB/s eta 0:00:01\r\u001b[K     |████████                        | 348kB 11.7MB/s eta 0:00:01\r\u001b[K     |████████▎                       | 358kB 11.7MB/s eta 0:00:01\r\u001b[K     |████████▌                       | 368kB 11.7MB/s eta 0:00:01\r\u001b[K     |████████▊                       | 378kB 11.7MB/s eta 0:00:01\r\u001b[K     |█████████                       | 389kB 11.7MB/s eta 0:00:01\r\u001b[K     |█████████▏                      | 399kB 11.7MB/s eta 0:00:01\r\u001b[K     |█████████▍                      | 409kB 11.7MB/s eta 0:00:01\r\u001b[K     |█████████▋                      | 419kB 11.7MB/s eta 0:00:01\r\u001b[K     |██████████                      | 430kB 11.7MB/s eta 0:00:01\r\u001b[K     |██████████▏                     | 440kB 11.7MB/s eta 0:00:01\r\u001b[K     |██████████▍                     | 450kB 11.7MB/s eta 0:00:01\r\u001b[K     |██████████▋                     | 460kB 11.7MB/s eta 0:00:01\r\u001b[K     |██████████▉                     | 471kB 11.7MB/s eta 0:00:01\r\u001b[K     |███████████                     | 481kB 11.7MB/s eta 0:00:01\r\u001b[K     |███████████▎                    | 491kB 11.7MB/s eta 0:00:01\r\u001b[K     |███████████▌                    | 501kB 11.7MB/s eta 0:00:01\r\u001b[K     |███████████▉                    | 512kB 11.7MB/s eta 0:00:01\r\u001b[K     |████████████                    | 522kB 11.7MB/s eta 0:00:01\r\u001b[K     |████████████▎                   | 532kB 11.7MB/s eta 0:00:01\r\u001b[K     |████████████▌                   | 542kB 11.7MB/s eta 0:00:01\r\u001b[K     |████████████▊                   | 552kB 11.7MB/s eta 0:00:01\r\u001b[K     |█████████████                   | 563kB 11.7MB/s eta 0:00:01\r\u001b[K     |█████████████▏                  | 573kB 11.7MB/s eta 0:00:01\r\u001b[K     |█████████████▍                  | 583kB 11.7MB/s eta 0:00:01\r\u001b[K     |█████████████▊                  | 593kB 11.7MB/s eta 0:00:01\r\u001b[K     |██████████████                  | 604kB 11.7MB/s eta 0:00:01\r\u001b[K     |██████████████▏                 | 614kB 11.7MB/s eta 0:00:01\r\u001b[K     |██████████████▍                 | 624kB 11.7MB/s eta 0:00:01\r\u001b[K     |██████████████▋                 | 634kB 11.7MB/s eta 0:00:01\r\u001b[K     |██████████████▉                 | 645kB 11.7MB/s eta 0:00:01\r\u001b[K     |███████████████                 | 655kB 11.7MB/s eta 0:00:01\r\u001b[K     |███████████████▎                | 665kB 11.7MB/s eta 0:00:01\r\u001b[K     |███████████████▌                | 675kB 11.7MB/s eta 0:00:01\r\u001b[K     |███████████████▉                | 686kB 11.7MB/s eta 0:00:01\r\u001b[K     |████████████████                | 696kB 11.7MB/s eta 0:00:01\r\u001b[K     |████████████████▎               | 706kB 11.7MB/s eta 0:00:01\r\u001b[K     |████████████████▌               | 716kB 11.7MB/s eta 0:00:01\r\u001b[K     |████████████████▊               | 727kB 11.7MB/s eta 0:00:01\r\u001b[K     |█████████████████               | 737kB 11.7MB/s eta 0:00:01\r\u001b[K     |█████████████████▏              | 747kB 11.7MB/s eta 0:00:01\r\u001b[K     |█████████████████▍              | 757kB 11.7MB/s eta 0:00:01\r\u001b[K     |█████████████████▊              | 768kB 11.7MB/s eta 0:00:01\r\u001b[K     |██████████████████              | 778kB 11.7MB/s eta 0:00:01\r\u001b[K     |██████████████████▏             | 788kB 11.7MB/s eta 0:00:01\r\u001b[K     |██████████████████▍             | 798kB 11.7MB/s eta 0:00:01\r\u001b[K     |██████████████████▋             | 808kB 11.7MB/s eta 0:00:01\r\u001b[K     |██████████████████▉             | 819kB 11.7MB/s eta 0:00:01\r\u001b[K     |███████████████████             | 829kB 11.7MB/s eta 0:00:01\r\u001b[K     |███████████████████▎            | 839kB 11.7MB/s eta 0:00:01\r\u001b[K     |███████████████████▋            | 849kB 11.7MB/s eta 0:00:01\r\u001b[K     |███████████████████▉            | 860kB 11.7MB/s eta 0:00:01\r\u001b[K     |████████████████████            | 870kB 11.7MB/s eta 0:00:01\r\u001b[K     |████████████████████▎           | 880kB 11.7MB/s eta 0:00:01\r\u001b[K     |████████████████████▌           | 890kB 11.7MB/s eta 0:00:01\r\u001b[K     |████████████████████▊           | 901kB 11.7MB/s eta 0:00:01\r\u001b[K     |█████████████████████           | 911kB 11.7MB/s eta 0:00:01\r\u001b[K     |█████████████████████▏          | 921kB 11.7MB/s eta 0:00:01\r\u001b[K     |█████████████████████▌          | 931kB 11.7MB/s eta 0:00:01\r\u001b[K     |█████████████████████▊          | 942kB 11.7MB/s eta 0:00:01\r\u001b[K     |██████████████████████          | 952kB 11.7MB/s eta 0:00:01\r\u001b[K     |██████████████████████▏         | 962kB 11.7MB/s eta 0:00:01\r\u001b[K     |██████████████████████▍         | 972kB 11.7MB/s eta 0:00:01\r\u001b[K     |██████████████████████▋         | 983kB 11.7MB/s eta 0:00:01\r\u001b[K     |██████████████████████▉         | 993kB 11.7MB/s eta 0:00:01\r\u001b[K     |███████████████████████         | 1.0MB 11.7MB/s eta 0:00:01\r\u001b[K     |███████████████████████▎        | 1.0MB 11.7MB/s eta 0:00:01\r\u001b[K     |███████████████████████▋        | 1.0MB 11.7MB/s eta 0:00:01\r\u001b[K     |███████████████████████▉        | 1.0MB 11.7MB/s eta 0:00:01\r\u001b[K     |████████████████████████        | 1.0MB 11.7MB/s eta 0:00:01\r\u001b[K     |████████████████████████▎       | 1.1MB 11.7MB/s eta 0:00:01\r\u001b[K     |████████████████████████▌       | 1.1MB 11.7MB/s eta 0:00:01\r\u001b[K     |████████████████████████▊       | 1.1MB 11.7MB/s eta 0:00:01\r\u001b[K     |█████████████████████████       | 1.1MB 11.7MB/s eta 0:00:01\r\u001b[K     |█████████████████████████▏      | 1.1MB 11.7MB/s eta 0:00:01\r\u001b[K     |█████████████████████████▌      | 1.1MB 11.7MB/s eta 0:00:01\r\u001b[K     |█████████████████████████▊      | 1.1MB 11.7MB/s eta 0:00:01\r\u001b[K     |██████████████████████████      | 1.1MB 11.7MB/s eta 0:00:01\r\u001b[K     |██████████████████████████▏     | 1.1MB 11.7MB/s eta 0:00:01\r\u001b[K     |██████████████████████████▍     | 1.1MB 11.7MB/s eta 0:00:01\r\u001b[K     |██████████████████████████▋     | 1.2MB 11.7MB/s eta 0:00:01\r\u001b[K     |██████████████████████████▉     | 1.2MB 11.7MB/s eta 0:00:01\r\u001b[K     |███████████████████████████     | 1.2MB 11.7MB/s eta 0:00:01\r\u001b[K     |███████████████████████████▍    | 1.2MB 11.7MB/s eta 0:00:01\r\u001b[K     |███████████████████████████▋    | 1.2MB 11.7MB/s eta 0:00:01\r\u001b[K     |███████████████████████████▉    | 1.2MB 11.7MB/s eta 0:00:01\r\u001b[K     |████████████████████████████    | 1.2MB 11.7MB/s eta 0:00:01\r\u001b[K     |████████████████████████████▎   | 1.2MB 11.7MB/s eta 0:00:01\r\u001b[K     |████████████████████████████▌   | 1.2MB 11.7MB/s eta 0:00:01\r\u001b[K     |████████████████████████████▊   | 1.2MB 11.7MB/s eta 0:00:01\r\u001b[K     |█████████████████████████████   | 1.3MB 11.7MB/s eta 0:00:01\r\u001b[K     |█████████████████████████████▎  | 1.3MB 11.7MB/s eta 0:00:01\r\u001b[K     |█████████████████████████████▌  | 1.3MB 11.7MB/s eta 0:00:01\r\u001b[K     |█████████████████████████████▊  | 1.3MB 11.7MB/s eta 0:00:01\r\u001b[K     |██████████████████████████████  | 1.3MB 11.7MB/s eta 0:00:01\r\u001b[K     |██████████████████████████████▏ | 1.3MB 11.7MB/s eta 0:00:01\r\u001b[K     |██████████████████████████████▍ | 1.3MB 11.7MB/s eta 0:00:01\r\u001b[K     |██████████████████████████████▋ | 1.3MB 11.7MB/s eta 0:00:01\r\u001b[K     |██████████████████████████████▉ | 1.3MB 11.7MB/s eta 0:00:01\r\u001b[K     |███████████████████████████████ | 1.4MB 11.7MB/s eta 0:00:01\r\u001b[K     |███████████████████████████████▍| 1.4MB 11.7MB/s eta 0:00:01\r\u001b[K     |███████████████████████████████▋| 1.4MB 11.7MB/s eta 0:00:01\r\u001b[K     |███████████████████████████████▉| 1.4MB 11.7MB/s eta 0:00:01\r\u001b[K     |████████████████████████████████| 1.4MB 11.7MB/s \n",
            "\u001b[?25hCollecting libwapiti>=0.2.1; platform_system != \"Windows\"\n",
            "\u001b[?25l  Downloading https://files.pythonhosted.org/packages/bc/0f/1c9b49bb49821b5856a64ea6fac8d96a619b9f291d1f06999ea98a32c89c/libwapiti-0.2.1.tar.gz (233kB)\n",
            "\r\u001b[K     |█▍                              | 10kB 21.8MB/s eta 0:00:01\r\u001b[K     |██▉                             | 20kB 29.5MB/s eta 0:00:01\r\u001b[K     |████▏                           | 30kB 35.2MB/s eta 0:00:01\r\u001b[K     |█████▋                          | 40kB 39.1MB/s eta 0:00:01\r\u001b[K     |███████                         | 51kB 41.1MB/s eta 0:00:01\r\u001b[K     |████████▍                       | 61kB 43.4MB/s eta 0:00:01\r\u001b[K     |█████████▉                      | 71kB 44.1MB/s eta 0:00:01\r\u001b[K     |███████████▏                    | 81kB 45.9MB/s eta 0:00:01\r\u001b[K     |████████████▋                   | 92kB 121kB/s eta 0:00:02\r\u001b[K     |██████████████                  | 102kB 135kB/s eta 0:00:01\r\u001b[K     |███████████████▍                | 112kB 135kB/s eta 0:00:01\r\u001b[K     |████████████████▉               | 122kB 135kB/s eta 0:00:01\r\u001b[K     |██████████████████▎             | 133kB 135kB/s eta 0:00:01\r\u001b[K     |███████████████████▋            | 143kB 135kB/s eta 0:00:01\r\u001b[K     |█████████████████████           | 153kB 135kB/s eta 0:00:01\r\u001b[K     |██████████████████████▍         | 163kB 135kB/s eta 0:00:01\r\u001b[K     |███████████████████████▉        | 174kB 135kB/s eta 0:00:01\r\u001b[K     |█████████████████████████▎      | 184kB 135kB/s eta 0:00:01\r\u001b[K     |██████████████████████████▋     | 194kB 135kB/s eta 0:00:01\r\u001b[K     |████████████████████████████    | 204kB 135kB/s eta 0:00:01\r\u001b[K     |█████████████████████████████▌  | 215kB 135kB/s eta 0:00:01\r\u001b[K     |██████████████████████████████▉ | 225kB 135kB/s eta 0:00:01\r\u001b[K     |████████████████████████████████| 235kB 135kB/s \n",
            "\u001b[?25hRequirement already satisfied: six in /usr/local/lib/python3.6/dist-packages (from nltk==3.3->hazm) (1.15.0)\n",
            "Building wheels for collected packages: nltk, libwapiti\n",
            "  Building wheel for nltk (setup.py) ... \u001b[?25l\u001b[?25hdone\n",
            "  Created wheel for nltk: filename=nltk-3.3-cp36-none-any.whl size=1394472 sha256=20be8c8648b998476f3fc601423e20bc21461c442464e4e4ca1e4b8978eace28\n",
            "  Stored in directory: /root/.cache/pip/wheels/d1/ab/40/3bceea46922767e42986aef7606a600538ca80de6062dc266c\n",
            "  Building wheel for libwapiti (setup.py) ... \u001b[?25l\u001b[?25hdone\n",
            "  Created wheel for libwapiti: filename=libwapiti-0.2.1-cp36-cp36m-linux_x86_64.whl size=154748 sha256=e2a663693e840b64a335ce91409a72a935bd538c7383f3d7141a4cfeeff12580\n",
            "  Stored in directory: /root/.cache/pip/wheels/66/15/54/4510dce8bb958b1cdd2c47425cbd1e1eecc0480ac9bb1fb9ab\n",
            "Successfully built nltk libwapiti\n",
            "Installing collected packages: nltk, libwapiti, hazm\n",
            "  Found existing installation: nltk 3.2.5\n",
            "    Uninstalling nltk-3.2.5:\n",
            "      Successfully uninstalled nltk-3.2.5\n",
            "Successfully installed hazm-0.7.0 libwapiti-0.2.1 nltk-3.3\n"
          ],
          "name": "stdout"
        }
      ]
    },
    {
      "cell_type": "code",
      "metadata": {
        "id": "O6PULXtoL67s",
        "colab_type": "code",
        "colab": {
          "base_uri": "https://localhost:8080/",
          "height": 35
        },
        "outputId": "dd0fc526-7bfe-49e2-90e1-30222df8391b"
      },
      "source": [
        "pip install persiantools"
      ],
      "execution_count": 13,
      "outputs": [
        {
          "output_type": "stream",
          "text": [
            "Requirement already satisfied: persiantools in /usr/local/lib/python3.6/dist-packages (1.5.0)\n"
          ],
          "name": "stdout"
        }
      ]
    },
    {
      "cell_type": "code",
      "metadata": {
        "id": "mpgP6T1b4s3d",
        "colab_type": "code",
        "colab": {
          "base_uri": "https://localhost:8080/",
          "height": 70
        },
        "outputId": "6bd84850-a76c-4050-a4ae-24c9500e621f"
      },
      "source": [
        "import nltk\n",
        "nltk.download('punkt')"
      ],
      "execution_count": 14,
      "outputs": [
        {
          "output_type": "stream",
          "text": [
            "[nltk_data] Downloading package punkt to /root/nltk_data...\n",
            "[nltk_data]   Unzipping tokenizers/punkt.zip.\n"
          ],
          "name": "stdout"
        },
        {
          "output_type": "execute_result",
          "data": {
            "text/plain": [
              "True"
            ]
          },
          "metadata": {
            "tags": []
          },
          "execution_count": 14
        }
      ]
    },
    {
      "cell_type": "code",
      "metadata": {
        "id": "JGZvTNxxEI-N",
        "colab_type": "code",
        "colab": {}
      },
      "source": [
        "from __future__ import unicode_literals\n",
        "import torch\n",
        "import nltk\n",
        "import pandas as pd\n",
        "import hazm\n",
        "from hazm import *\n",
        "from persiantools import characters\n",
        "from sklearn.feature_extraction.text import CountVectorizer\n",
        "from sklearn.feature_extraction.text import TfidfVectorizer\n",
        "from sklearn.metrics import classification_report\n",
        "from sklearn.model_selection import train_test_split\n",
        "from scipy.sparse import hstack\n",
        "from sklearn.linear_model import LogisticRegression\n",
        "from sklearn.preprocessing import OneHotEncoder"
      ],
      "execution_count": 3,
      "outputs": []
    },
    {
      "cell_type": "code",
      "metadata": {
        "id": "cccYMwMAKm64",
        "colab_type": "code",
        "colab": {}
      },
      "source": [
        "device = torch.device(\"cuda:0\" if torch.cuda.is_available() else \"cpu\")"
      ],
      "execution_count": 4,
      "outputs": []
    },
    {
      "cell_type": "code",
      "metadata": {
        "id": "6lzJHhS09piB",
        "colab_type": "code",
        "colab": {
          "base_uri": "https://localhost:8080/",
          "height": 35
        },
        "outputId": "2a6a98e5-7b40-44a4-f864-93f5d45e8753"
      },
      "source": [
        "print(device)"
      ],
      "execution_count": 5,
      "outputs": [
        {
          "output_type": "stream",
          "text": [
            "cuda:0\n"
          ],
          "name": "stdout"
        }
      ]
    },
    {
      "cell_type": "code",
      "metadata": {
        "id": "Lt415hz0PJqF",
        "colab_type": "code",
        "colab": {}
      },
      "source": [
        "from google.colab import drive\n",
        "drive.mount('/content/drive')"
      ],
      "execution_count": null,
      "outputs": []
    },
    {
      "cell_type": "code",
      "metadata": {
        "id": "3Fb6TxPX-oy_",
        "colab_type": "code",
        "colab": {}
      },
      "source": [
        "import time\n",
        "from datetime import timedelta\n",
        "from datetime import datetime\n",
        "def preprocess_on_each_sent(sentence, _lemmatizer):\n",
        "    new_sentence = \"\"\n",
        "    punctuations = ['.', '؟', '/', '،', '!']\n",
        "    stop_words_list = hazm.utils.stopwords_list()\n",
        "    list_of_words = word_tokenize(sentence)\n",
        "    for i in list_of_words:\n",
        "        if i not in stop_words_list and i not in punctuations:\n",
        "            new_word = _lemmatizer.lemmatize(i)\n",
        "            new_sentence = new_sentence + \" \" + new_word\n",
        "    return new_sentence\n",
        "\n",
        "\n",
        "def read_input_file():\n",
        "    data_file = pd.read_csv(r'/content/drive/My Drive/Colab Notebooks/Final_Exam/mobile_phone_dataset.csv')\n",
        "    return data_file\n",
        "\n",
        "def process_data_file(input_data_file):\n",
        "    days = []\n",
        "    time = []\n",
        "    lemmatizer = Lemmatizer()\n",
        "    stemmer = Stemmer()\n",
        "    normalizer = Normalizer()\n",
        "    stemmer = Stemmer()\n",
        "    input_data_file = input_data_file[input_data_file.price >= 0].reset_index(drop=True)\n",
        "    input_data_file['desc'] = input_data_file.apply(lambda each_row: normalizer.normalize(each_row['desc']), axis=1)\n",
        "    input_data_file['title'] = input_data_file.apply(lambda each_row: normalizer.normalize(each_row['title']), axis=1)\n",
        "    input_data_file['desc'] = input_data_file.apply(lambda each_row: preprocess_on_each_sent(each_row['desc'], lemmatizer), axis=1)\n",
        "    input_data_file['title'] = input_data_file.apply(lambda each_row: preprocess_on_each_sent(each_row['title'], lemmatizer), axis=1)\n",
        "\n",
        "\n",
        "\n",
        "    input_data_file['created_at'] = df.apply(lambda each_row: nltk.word_tokenize(each_row['created_at']), axis=1)\n",
        "    input_data_file.apply(lambda each_row: days.append(each_row['created_at'][0]), axis=1)\n",
        "    input_data_file.apply(lambda each_row: time.append(each_row['created_at'][1]), axis=1)\n",
        "    input_data_file['created_at_day'] = days\n",
        "    input_data_file['created_at_time'] = time\n",
        "    input_data_file = input_data_file.drop('created_at', axis=1)\n",
        "\n",
        "    input_data_file['brand'] = df.apply(lambda each_row: each_row['brand'].split('::')[0], axis=1)\n",
        "\n",
        "    return input_data_file\n",
        "\n",
        "\n",
        "def split_train_test_data(data_file):\n",
        "    features = data_file.drop('price', axis=1)\n",
        "    target = data_file['price']\n",
        "    features_train, features_test, target_train, target_test = train_test_split(features, target, train_size=0.8)\n",
        "    return features_train, features_test, target_train, target_test\n",
        "\n",
        "\n",
        "def manage_data(features_train, features_test, data_file):\n",
        "    vectorizer = CountVectorizer(lowercase=False, binary=True)\n",
        "    #df_brand_oneHot = vectorizer.fit_transform(data_file['brand'].values)\n",
        "    train_brand_oneHot = vectorizer.fit_transform(features_train['brand'].values)\n",
        "    test_brand_oneHot = vectorizer.transform(features_test['brand'].values)\n",
        "\n",
        "    #df_city_oneHot = vectorizer.fit_transform(data_file['city'].values)\n",
        "    train_city_oneHot = vectorizer.fit_transform(features_train['city'].values)\n",
        "    test_city_oneHot = vectorizer.transform(features_test['city'].values)\n",
        "\n",
        "    #df_day_oneHot = vectorizer.fit_transform(data_file['created_at_day'].values)\n",
        "    train_day_oneHot = vectorizer.fit_transform(features_train['created_at_day'].values)\n",
        "    test_day_oneHot = vectorizer.transform(features_test['created_at_day'].values)\n",
        "\n",
        "    #df_time_oneHot = vectorizer.fit_transform(data_file['created_at_time'].values)\n",
        "    train_time_oneHot = vectorizer.fit_transform(features_train['created_at_time'].values)\n",
        "    test_time_oneHot = vectorizer.transform(features_test['created_at_time'].values)\n",
        "\n",
        "    df_image_count = [str(i) for i in data_file['image_count'].values]\n",
        "    train_image_count = [str(i) for i in features_train['image_count'].values]\n",
        "    test_image_count = [str(i) for i in features_test['image_count'].values]\n",
        "\n",
        "    print(train_image_count)\n",
        "    df_image_count_oneHot = vectorizer.fit_transform(df_image_count)\n",
        "    train_image_count_oneHot = vectorizer.transform(train_image_count)\n",
        "    test_image_count_oneHot = vectorizer.transform(test_image_count)\n",
        "\n",
        "    vectorizer = TfidfVectorizer(ngram_range=(1, 3), min_df=3, max_features=1000)\n",
        "    #df_title_tfidf = vectorizer.fit_transform(data_file['title'].values)\n",
        "    train_title_tfidf = vectorizer.fit_transform(features_train['title'].values)\n",
        "    test_title_tfidf = vectorizer.transform(features_test['title'].values)\n",
        "\n",
        "    vectorizer = TfidfVectorizer(ngram_range=(1, 3), min_df=5, max_features=2000)\n",
        "    #df_desc_tfidf = vectorizer.fit_transform(data_file['desc'].values)\n",
        "    train_desc_tfidf = vectorizer.fit_transform(features_train['desc'].values)\n",
        "    test_desc_tfidf = vectorizer.transform(features_test['desc'].values)\n",
        "\n",
        "    train_sparse = hstack((\n",
        "        train_brand_oneHot, train_city_oneHot, train_day_oneHot, train_time_oneHot, train_image_count_oneHot,\n",
        "        train_title_tfidf,\n",
        "        train_desc_tfidf)).tocsr()\n",
        "    test_sparse = hstack((test_brand_oneHot, test_city_oneHot, test_day_oneHot, test_time_oneHot,\n",
        "                          test_image_count_oneHot, test_title_tfidf,\n",
        "                          test_desc_tfidf)).tocsr()\n",
        "\n",
        "    return train_sparse, test_sparse\n",
        "\n",
        "\n",
        "def model_prediction(pro_features_train, pro_features_test, target_train, target_test):\n",
        "    lgr = LogisticRegression(random_state=0, max_iter=10000)\n",
        "    lgr.fit(pro_features_train, target_train)\n",
        "\n",
        "    actual_train_data = list(target_train)\n",
        "    predict_train_data = lgr.predict(pro_features_train)\n",
        "    actual_test_data = list(target_test)\n",
        "    predict_test_data = lgr.predict(pro_features_test)\n",
        "\n",
        "        acc_test = lgr.score(pro_features_test, actual_test_data)\n",
        "    acc_train = lgr.score(pro_features_train, actual_train_data)\n",
        "    print('Accuracy Test= %.3f' % (acc_test * 100))\n",
        "    print('Accuracy Train= %.3f' % (acc_train * 100))\n",
        "\n",
        "def model2_prediction(pro_features_train, pro_features_test, target_train, target_test):\n",
        "    trg = DecisionTreeRegressor(random_state=0, max_depth = 10)\n",
        "    trg.fit(pro_features_train, target_train)\n",
        "\n",
        "    actual_train_data = list(target_train)\n",
        "    predict_train_data = trg.predict(pro_features_train)\n",
        "    actual_test_data = list(target_test)\n",
        "    predict_test_data = trg.predict(pro_features_test)\n",
        "\n",
        "    acc_test = trg.score(pro_features_test, actual_test_data)\n",
        "    acc_train = trg.score(pro_features_train, actual_train_data)\n",
        "    print('Accuracy Test= %.3f' % (acc_test * 100))\n",
        "    print('Accuracy Train= %.3f' % (acc_train * 100))\n",
        "\n",
        "\n"
      ],
      "execution_count": 25,
      "outputs": []
    },
    {
      "cell_type": "code",
      "metadata": {
        "id": "3BW6nQwfJK90",
        "colab_type": "code",
        "colab": {}
      },
      "source": [
        "df = read_input_file()\n",
        "df_slice = df.head(20000)"
      ],
      "execution_count": 20,
      "outputs": []
    },
    {
      "cell_type": "markdown",
      "metadata": {
        "id": "yWmvlyqwMxen",
        "colab_type": "text"
      },
      "source": [
        "# New section"
      ]
    },
    {
      "cell_type": "code",
      "metadata": {
        "id": "BteHxThKJLgL",
        "colab_type": "code",
        "colab": {}
      },
      "source": [
        "input_data = process_data_file(df)\n",
        "print(input_data)"
      ],
      "execution_count": null,
      "outputs": []
    },
    {
      "cell_type": "code",
      "metadata": {
        "id": "nuG1duSZJMA7",
        "colab_type": "code",
        "colab": {}
      },
      "source": [
        "main_features_train, main_features_test, main_target_train, main_target_test = split_train_test_data(input_data)"
      ],
      "execution_count": 22,
      "outputs": []
    },
    {
      "cell_type": "code",
      "metadata": {
        "id": "wX1id44WJuWb",
        "colab_type": "code",
        "colab": {}
      },
      "source": [
        "processed_features_train, processed_features_test = manage_data(main_features_train, main_features_test, input_data)"
      ],
      "execution_count": null,
      "outputs": []
    },
    {
      "cell_type": "code",
      "metadata": {
        "id": "GLRM4Q4RJNY7",
        "colab_type": "code",
        "colab": {}
      },
      "source": [
        "model_prediction(processed_features_train, processed_features_test, main_target_train, main_target_test)"
      ],
      "execution_count": null,
      "outputs": []
    },
    {
      "cell_type": "code",
      "metadata": {
        "id": "LAeZHDW8DL4H",
        "colab_type": "code",
        "colab": {
          "base_uri": "https://localhost:8080/",
          "height": 168
        },
        "outputId": "22a16721-3a37-425d-fcdf-d055fa2a0f79"
      },
      "source": [
        "model2_prediction(processed_features_train, processed_features_test, main_target_train, main_target_test)"
      ],
      "execution_count": 28,
      "outputs": [
        {
          "output_type": "error",
          "ename": "NameError",
          "evalue": "ignored",
          "traceback": [
            "\u001b[0;31m---------------------------------------------------------------------------\u001b[0m",
            "\u001b[0;31mNameError\u001b[0m                                 Traceback (most recent call last)",
            "\u001b[0;32m<ipython-input-28-adee5296f4d3>\u001b[0m in \u001b[0;36m<module>\u001b[0;34m()\u001b[0m\n\u001b[0;32m----> 1\u001b[0;31m \u001b[0mmodel2_prediction\u001b[0m\u001b[0;34m(\u001b[0m\u001b[0mprocessed_features_train\u001b[0m\u001b[0;34m,\u001b[0m \u001b[0mprocessed_features_test\u001b[0m\u001b[0;34m,\u001b[0m \u001b[0mmain_target_train\u001b[0m\u001b[0;34m,\u001b[0m \u001b[0mmain_target_test\u001b[0m\u001b[0;34m)\u001b[0m\u001b[0;34m\u001b[0m\u001b[0;34m\u001b[0m\u001b[0m\n\u001b[0m",
            "\u001b[0;31mNameError\u001b[0m: name 'model2_prediction' is not defined"
          ]
        }
      ]
    }
  ]
}