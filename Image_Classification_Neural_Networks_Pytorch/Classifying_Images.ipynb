{
  "nbformat": 4,
  "nbformat_minor": 0,
  "metadata": {
    "colab": {
      "name": "Copy of Template.ipynb",
      "provenance": [],
      "collapsed_sections": []
    },
    "kernelspec": {
      "name": "python3",
      "display_name": "Python 3"
    },
    "accelerator": "GPU"
  },
  "cells": [
    {
      "cell_type": "code",
      "metadata": {
        "id": "5cMl-n36xKZA",
        "colab_type": "code",
        "colab": {}
      },
      "source": [
        "import torchvision\n",
        "import torch\n",
        "import matplotlib.pyplot as plt\n",
        "from torch.utils.data import Dataset, DataLoader, random_split\n",
        "from torchvision.datasets import ImageFolder\n",
        "from torch.utils.data.sampler import SubsetRandomSampler\n",
        "from sklearn.model_selection import train_test_split\n",
        "import torchvision.transforms as transforms\n",
        "import numpy as np\n",
        "from google.colab import drive\n",
        "import torch.nn as nn\n",
        "import torch.nn.functional as F\n"
      ],
      "execution_count": 2,
      "outputs": []
    },
    {
      "cell_type": "markdown",
      "metadata": {
        "id": "g7A23D4lUBe5",
        "colab_type": "text"
      },
      "source": [
        "Step 1: Define transform classes, instantiating transform objects and instantiating the dataset."
      ]
    },
    {
      "cell_type": "code",
      "metadata": {
        "id": "biWxYuFZ3GsY",
        "colab_type": "code",
        "colab": {}
      },
      "source": [
        "class CustomToTensor(object):\n",
        "    \"\"\"Convert PIL Images in sample to pytorch Tensors.\"\"\"\n",
        "    \n",
        "    ## the input image must be grayscaled first\n",
        "    def __call__(self, image):\n",
        "        image = np.array(image, dtype=np.float32)\n",
        "        # numpy image: H x W\n",
        "        return torch.from_numpy(image)"
      ],
      "execution_count": 3,
      "outputs": []
    },
    {
      "cell_type": "code",
      "metadata": {
        "id": "Jd69irAxL19G",
        "colab_type": "code",
        "colab": {}
      },
      "source": [
        "class ScalingToTensor(object):\n",
        "    \"\"\"Convert PIL Images in sample to pytorch Tensors.\"\"\"\n",
        "\n",
        "    def __call__(self, image):\n",
        "        image = np.array(image, dtype=np.float32) / 255\n",
        "        # numpy image: H x W\n",
        "        return torch.from_numpy(image)"
      ],
      "execution_count": 4,
      "outputs": []
    },
    {
      "cell_type": "code",
      "metadata": {
        "id": "9dxaM4HADlNi",
        "colab_type": "code",
        "colab": {
          "base_uri": "https://localhost:8080/",
          "height": 126
        },
        "outputId": "c1d99ee1-2213-424b-8876-2f8cd38a7f72"
      },
      "source": [
        "from google.colab import drive\n",
        "drive.mount('/content/drive')"
      ],
      "execution_count": 5,
      "outputs": [
        {
          "output_type": "stream",
          "text": [
            "Go to this URL in a browser: https://accounts.google.com/o/oauth2/auth?client_id=947318989803-6bn6qk8qdgf4n4g3pfee6491hc0brc4i.apps.googleusercontent.com&redirect_uri=urn%3aietf%3awg%3aoauth%3a2.0%3aoob&response_type=code&scope=email%20https%3a%2f%2fwww.googleapis.com%2fauth%2fdocs.test%20https%3a%2f%2fwww.googleapis.com%2fauth%2fdrive%20https%3a%2f%2fwww.googleapis.com%2fauth%2fdrive.photos.readonly%20https%3a%2f%2fwww.googleapis.com%2fauth%2fpeopleapi.readonly\n",
            "\n",
            "Enter your authorization code:\n",
            "··········\n",
            "Mounted at /content/drive\n"
          ],
          "name": "stdout"
        }
      ]
    },
    {
      "cell_type": "code",
      "metadata": {
        "id": "NmIqe4Zj55EI",
        "colab_type": "code",
        "colab": {}
      },
      "source": [
        "transform1 = transforms.Compose([transforms.Grayscale(),\n",
        "                                CustomToTensor()]) ## composes multiple transforms into single one\n",
        "\n",
        "transform2 = transforms.Compose([transforms.Grayscale(),\n",
        "                                ScalingToTensor()])\n",
        "\n",
        "dataset1 = ImageFolder(root='/content/drive/My Drive/categorized_products',\n",
        "                                       transform=transform1)\n",
        "\n",
        "dataset2 = ImageFolder(root='/content/drive/My Drive/categorized_products',\n",
        "                                       transform=transform2)\n"
      ],
      "execution_count": 6,
      "outputs": []
    },
    {
      "cell_type": "markdown",
      "metadata": {
        "id": "10_0X5gv3Gsj",
        "colab_type": "text"
      },
      "source": [
        "Step 2: Split Dataset and Make it Iterable"
      ]
    },
    {
      "cell_type": "code",
      "metadata": {
        "id": "1-NvGD-o3Gsl",
        "colab_type": "code",
        "colab": {}
      },
      "source": [
        "batch_size = 64\n",
        "validation_split = 0.2\n",
        "classes1 = dataset1.classes\n",
        "classes2 = dataset2.classes\n",
        "\n",
        "indices1 = list(range(len(dataset1))) # indices of the dataset1\n",
        "indices2 = list(range(len(dataset2))) # indices of the dataset2\n",
        "\n",
        "\n",
        "target1 = dataset1.targets\n",
        "target2 = dataset2.targets\n",
        "# TODO: split the dataset into train and test sets randomly with split of 0.2 and assign their indices in the original set to train_indices and test_indices \n",
        "train_indices1, test_indices1 = train_test_split(indices1, test_size=validation_split, train_size = 0.8, random_state = 10, stratify=target1)\n",
        "train_indices2, test_indices2 = train_test_split(indices2, test_size=validation_split, train_size = 0.8, random_state = 10, stratify=target2)\n",
        "\n",
        "# Creating PT data samplers and loaders:\n",
        "train_sampler1 = SubsetRandomSampler(train_indices1)\n",
        "test_sampler1 = SubsetRandomSampler(test_indices1)\n",
        "train_sampler2 = SubsetRandomSampler(train_indices2)\n",
        "test_sampler2 = SubsetRandomSampler(test_indices2)\n",
        "data_sampler = SubsetRandomSampler(indices1)\n",
        "\n",
        "train_set1 = torch.utils.data.Subset(dataset1, train_sampler1)\n",
        "test_set1 = torch.utils.data.Subset(dataset1, test_sampler2)\n",
        "train_set2 = torch.utils.data.Subset(dataset2, train_sampler2)\n",
        "test_set2 = torch.utils.data.Subset(dataset2, test_sampler2)\n",
        "\n",
        "\n",
        "data_loader = torch.utils.data.DataLoader(dataset1, batch_size=batch_size, sampler=data_sampler, num_workers=16)\n",
        "train_loader1 = torch.utils.data.DataLoader(dataset1, batch_size=batch_size, sampler=train_sampler1, num_workers=16)\n",
        "test_loader1 = torch.utils.data.DataLoader(dataset1, batch_size=batch_size, sampler=test_sampler1, num_workers=16)\n",
        "train_loader2 = torch.utils.data.DataLoader(dataset2, batch_size=batch_size, sampler=train_sampler2, num_workers=16)\n",
        "test_loader2 = torch.utils.data.DataLoader(dataset2, batch_size=batch_size, sampler=test_sampler2, num_workers=16)\n"
      ],
      "execution_count": 7,
      "outputs": []
    },
    {
      "cell_type": "code",
      "metadata": {
        "id": "XIAqTVD_RWOW",
        "colab_type": "code",
        "colab": {}
      },
      "source": [
        "def imshow(img_array, labels, classes):\n",
        "    _, axs = plt.subplots(3, 4) \n",
        "    for i in range(3):\n",
        "      for j in range(4):\n",
        "        axs[i][j].imshow(img_array[i * 4 + j], cmap='gray')\n",
        "        axs[i][j].set_title(classes[labels[i * 4 + j]])\n",
        "        axs[i][j].axis('off')\n",
        "    plt.show()\n",
        "\n",
        "data_iter = iter(train_loader1)\n",
        "data_iter.next()\n",
        "images, labels = data_iter.next()\n",
        "\n",
        "#imshow(images[0:12], labels[0:12], classes1)"
      ],
      "execution_count": 8,
      "outputs": []
    },
    {
      "cell_type": "code",
      "metadata": {
        "id": "Zs4RXI64I-rw",
        "colab_type": "code",
        "colab": {}
      },
      "source": [
        "def get_number_distribution(loader, classes):\n",
        "  total_category_count = {classes[i] : 0 for i in range(len(classes))}\n",
        "  for _, labels in loader:\n",
        "    for label in labels:\n",
        "      total_category_count[ classes[label] ] += 1\n",
        "  return total_category_count\n",
        "\n",
        "\n",
        "def plot_total_category_count(category_count):      \n",
        "\n",
        "  for category in classes1:\n",
        "    print('%s : %d' % (category, total_category_count[category]))\n",
        "  sort_category = sorted(total_category_count.items(), key=lambda x: x[1], reverse=True)\n",
        "  classes_name = []\n",
        "  classes_num = []\n",
        "  for i in sort_category:  \n",
        "    classes_name.append(i[0])\n",
        "    classes_num.append(i[1])\n",
        "  y_pos = np.arange(len(classes_name))  \n",
        "  plt.figure(figsize=(len(classes_name)*2, len(classes_name) / 2))\n",
        "  plt.bar(y_pos, classes_num, align = 'center', width=0.7)\n",
        "  plt.xticks(y_pos, classes_name)\n",
        "  plt.xlabel('Classes')  \n",
        "  plt.ylabel('Classes Count') \n",
        "  plt.title('Classes Count Diagram') \n",
        "\n",
        "  plt.show()   "
      ],
      "execution_count": 9,
      "outputs": []
    },
    {
      "cell_type": "code",
      "metadata": {
        "id": "81z8s8kcJJ8X",
        "colab_type": "code",
        "colab": {}
      },
      "source": [
        "#total_category_count = get_number_distribution(data_loader, classes1)"
      ],
      "execution_count": 10,
      "outputs": []
    },
    {
      "cell_type": "code",
      "metadata": {
        "id": "_8UMmnMFWQFe",
        "colab_type": "code",
        "colab": {}
      },
      "source": [
        "#plot_total_category_count(total_category_count)   "
      ],
      "execution_count": 11,
      "outputs": []
    },
    {
      "cell_type": "code",
      "metadata": {
        "id": "csbrPpko8vZk",
        "colab_type": "code",
        "colab": {}
      },
      "source": [
        "class Model(nn.Module):\n",
        "    def __init__(self, class_num, act=F.tanh):\n",
        "        super(Model, self).__init__()\n",
        "\n",
        "        self.layer1 = nn.Linear(1 * 80 * 60, 4 * 40 * 30)\n",
        "        self.act1 = act\n",
        "\n",
        "\n",
        "        self.layer2 = nn.Linear(4 * 40 * 30, 8 * 30 * 25)\n",
        "        self.act2 = act\n",
        "\n",
        "\n",
        "\n",
        "        self.layer3 = nn.Linear(8 * 30 * 25, 10 * 30 * 25)\n",
        "        self.act3 = act\n",
        "\n",
        "\n",
        "        self.layer4 = nn.Linear(10 * 30 * 25, 10 * 20 * 15)\n",
        "        self.act4 = act\n",
        "\n",
        "        self.layer5 = nn.Linear(10 * 20 * 15, 12 * 16 * 10)\n",
        "        self.act5 = act\n",
        "\n",
        "        self.layer6 = nn.Linear(12 * 16 * 10, 200)\n",
        "        self.act6 = act\n",
        "\n",
        "\n",
        "        self.layer7 = nn.Linear(200, class_num)\n",
        "\n",
        "    def forward(self, x):\n",
        "\n",
        "        x = x.view(x.size(0), -1)\n",
        "\n",
        "        x = self.layer1(x)\n",
        "        x = self.act1(x)\n",
        "\n",
        "        x = self.layer2(x)\n",
        "        x = self.act2(x)\n",
        "\n",
        "        x = self.layer3(x)\n",
        "        x = self.act3(x)\n",
        "\n",
        "        x = self.layer4(x)\n",
        "        x = self.act4(x)\n",
        "\n",
        "        x = self.layer5(x)\n",
        "        x = self.act5(x)\n",
        "\n",
        "        x = self.layer6(x)\n",
        "        x = self.act6(x)\n",
        "\n",
        "        x = self.layer7(x)\n",
        "        return x"
      ],
      "execution_count": 12,
      "outputs": []
    },
    {
      "cell_type": "code",
      "metadata": {
        "id": "GwkQiDqVb9KG",
        "colab_type": "code",
        "colab": {}
      },
      "source": [
        "device = torch.device(\"cuda:0\" if torch.cuda.is_available() else \"cpu\")"
      ],
      "execution_count": 13,
      "outputs": []
    },
    {
      "cell_type": "code",
      "metadata": {
        "id": "nV4Jt5LDcA4m",
        "colab_type": "code",
        "colab": {
          "base_uri": "https://localhost:8080/",
          "height": 35
        },
        "outputId": "0ba40a80-cc33-40b3-c4cc-39c7cc979685"
      },
      "source": [
        "print(device)"
      ],
      "execution_count": 14,
      "outputs": [
        {
          "output_type": "stream",
          "text": [
            "cuda:0\n"
          ],
          "name": "stdout"
        }
      ]
    },
    {
      "cell_type": "code",
      "metadata": {
        "id": "zlM2c1zTcBdk",
        "colab_type": "code",
        "colab": {}
      },
      "source": [
        "model = Model(len(classes1))\n",
        "\n",
        "model = model.to(device)"
      ],
      "execution_count": 15,
      "outputs": []
    },
    {
      "cell_type": "code",
      "metadata": {
        "id": "4u0K2ZaShz5e",
        "colab_type": "code",
        "colab": {}
      },
      "source": [
        "# model.layer1.weight.data.fill_(0)\n",
        "# model.layer2.weight.data.fill_(0)\n",
        "# model.layer3.weight.data.fill_(0)\n",
        "# model.layer4.weight.data.fill_(0)\n",
        "# model.layer5.weight.data.fill_(0)\n",
        "# model.layer6.weight.data.fill_(0)\n",
        "# model.layer7.weight.data.fill_(0)\n",
        "# model.layer1.bias.data.fill_(0)\n",
        "# model.layer2.bias.data.fill_(0)\n",
        "# model.layer3.bias.data.fill_(0)\n",
        "# model.layer4.bias.data.fill_(0)\n",
        "# model.layer5.bias.data.fill_(0)\n",
        "# model.layer6.bias.data.fill_(0)\n",
        "# model.layer7.bias.data.fill_(0)"
      ],
      "execution_count": 16,
      "outputs": []
    },
    {
      "cell_type": "code",
      "metadata": {
        "id": "2O49RSvvcP0M",
        "colab_type": "code",
        "colab": {}
      },
      "source": [
        "learning_rate = 0.01\n",
        "criterion = nn.CrossEntropyLoss()\n",
        "optimizer = torch.optim.SGD(model.parameters(), lr=learning_rate, momentum=0.5)"
      ],
      "execution_count": 17,
      "outputs": []
    },
    {
      "cell_type": "code",
      "metadata": {
        "id": "vRORr-63cM28",
        "colab_type": "code",
        "colab": {}
      },
      "source": [
        "import time\n",
        "from datetime import timedelta\n",
        "from datetime import datetime\n",
        "def fit(model, train_loader, device, criterion, optimizer, num_epochs=10):\n",
        "\n",
        "  total_time = 0.\n",
        "  loss_array = []\n",
        "\n",
        "  for epoch in range(num_epochs):\n",
        "      train_loss = 0.\n",
        "      d1 = datetime.now()\n",
        "      for images, labels in train_loader:\n",
        "          \n",
        "        images = images.to(device)\n",
        "        labels = labels.to(device)\n",
        "\n",
        "        # Clear gradients w.r.t. parameters\n",
        "        optimizer.zero_grad()\n",
        "\n",
        "        # Forward pass to get output/logits\n",
        "        outputs = model(images)\n",
        "\n",
        "        # Calculate Loss: softmax --> cross entropy loss\n",
        "        loss = criterion(outputs, labels)\n",
        "\n",
        "        # Getting gradients w.r.t. parameters\n",
        "        loss.backward()\n",
        "\n",
        "        # Updating parameters\n",
        "        optimizer.step()\n",
        "        train_loss += loss.item()\n",
        "      \n",
        "      average_loss = train_loss / len(train_loader)\n",
        "      loss_array.append(average_loss)\n",
        "      d2 = datetime.now()\n",
        "      delta = d2 - d1\n",
        "      seconds = float(delta.total_seconds())\n",
        "      total_time += seconds\n",
        "      print('epoch %d, train_loss: %.3f, time elapsed: %s seconds' % (epoch + 1, average_loss, seconds))\n",
        "  print('total training time: %.3f minutes' % (total_time / 60))\n",
        "  return loss_array"
      ],
      "execution_count": 18,
      "outputs": []
    },
    {
      "cell_type": "code",
      "metadata": {
        "id": "Vkyi7qEjRnPL",
        "colab_type": "code",
        "colab": {}
      },
      "source": [
        "def test_model_accuracy(model, test_loader):\n",
        "    # Calculate Accuracy         \n",
        "    correct = 0.\n",
        "    total = 0.\n",
        "    # Iterate through test dataset\n",
        "    with torch.no_grad():\n",
        "      for images, labels in test_loader:\n",
        "        outputs = model(images.to(device))\n",
        "        _, predicted = torch.max(outputs.data, 1)\n",
        "        total += labels.size(0)\n",
        "        correct += (predicted.to('cpu') == labels).sum().item()\n",
        "\n",
        "    accuracy = 100 * correct / total\n",
        "    print('Accuracy: {}%'.format(accuracy))\n",
        "    return accuracy"
      ],
      "execution_count": 19,
      "outputs": []
    },
    {
      "cell_type": "code",
      "metadata": {
        "id": "CV03ZN4L5lCA",
        "colab_type": "code",
        "colab": {}
      },
      "source": [
        "def each_class_model_accuracy(model, test_loader, classes):\n",
        "    correct_classes = [0] * len(classes)\n",
        "    total_class = [0] * len(classes)\n",
        "    acurracy_array = []\n",
        "\n",
        "    # Calculate Accuracy         \n",
        "    correct = 0.\n",
        "    total = 0.\n",
        "    # Iterate through test dataset\n",
        "    with torch.no_grad():\n",
        "      for images, labels in test_loader:\n",
        "        outputs = model(images.to(device))\n",
        "        _, predicted = torch.max(outputs.data, 1)\n",
        "        correct = (predicted.to('cpu') == labels).squeeze()\n",
        "        for i in range(len(labels)):\n",
        "          label = labels[i]\n",
        "          correct_classes[label] += correct[i]\n",
        "          total_class[label] += 1\n",
        "    for i in range(len(classes)):\n",
        "      accuracy = 100 * correct_classes[i] / total_class[i]\n",
        "      acurracy_array.append(accuracy)\n",
        "      print('Accuracy of Class {} = {:.2f}%' .format(classes[i], accuracy))  \n",
        "    return acurracy_array\n",
        "          "
      ],
      "execution_count": 20,
      "outputs": []
    },
    {
      "cell_type": "code",
      "metadata": {
        "id": "sVuB-bVgMaiF",
        "colab_type": "code",
        "colab": {}
      },
      "source": [
        "from prettytable import PrettyTable\n",
        "def model_parameter(model):\n",
        "  table = PrettyTable([\"Parmeters\", \"Values\"])\n",
        "  total_param = 0\n",
        "  for parameter, value in model.named_parameters():\n",
        "    if not value.requires_grad: continue\n",
        "    table.add_row([parameter, value.numel()])\n",
        "    total_param += value.numel()\n",
        "  print(table)\n",
        "  print('Total Train Variables = ' + str(total_param))  \n"
      ],
      "execution_count": 21,
      "outputs": []
    },
    {
      "cell_type": "code",
      "metadata": {
        "id": "se66C3UAfi8c",
        "colab_type": "code",
        "colab": {
          "base_uri": "https://localhost:8080/",
          "height": 248
        },
        "outputId": "77936b7e-7565-428a-8687-56f17d022105"
      },
      "source": [
        "loss_array1 = fit(model, train_loader1, device, criterion, optimizer) #FIT1"
      ],
      "execution_count": 22,
      "outputs": [
        {
          "output_type": "stream",
          "text": [
            "/usr/local/lib/python3.6/dist-packages/torch/nn/functional.py:1558: UserWarning: nn.functional.tanh is deprecated. Use torch.tanh instead.\n",
            "  warnings.warn(\"nn.functional.tanh is deprecated. Use torch.tanh instead.\")\n"
          ],
          "name": "stderr"
        },
        {
          "output_type": "stream",
          "text": [
            "epoch 1, train_loss: 3.444, time elapsed: 1501.257136 seconds\n",
            "epoch 2, train_loss: 3.456, time elapsed: 48.112858 seconds\n",
            "epoch 3, train_loss: 3.455, time elapsed: 48.3604 seconds\n",
            "epoch 4, train_loss: 3.457, time elapsed: 48.120222 seconds\n",
            "epoch 5, train_loss: 3.456, time elapsed: 47.528597 seconds\n",
            "epoch 6, train_loss: 3.455, time elapsed: 48.248762 seconds\n",
            "epoch 7, train_loss: 3.455, time elapsed: 48.605286 seconds\n",
            "epoch 8, train_loss: 3.455, time elapsed: 48.791598 seconds\n",
            "epoch 9, train_loss: 3.455, time elapsed: 47.931068 seconds\n",
            "epoch 10, train_loss: 3.456, time elapsed: 48.690709 seconds\n",
            "total training time: 32.261 minutes\n"
          ],
          "name": "stdout"
        }
      ]
    },
    {
      "cell_type": "code",
      "metadata": {
        "id": "-Rn1n-abNf3F",
        "colab_type": "code",
        "colab": {
          "base_uri": "https://localhost:8080/",
          "height": 248
        },
        "outputId": "4b18beed-96bb-493e-ee46-a83dd0e941bd"
      },
      "source": [
        "loss_array2 = fit(model, train_loader2, device, criterion, optimizer) #FIT2"
      ],
      "execution_count": 23,
      "outputs": [
        {
          "output_type": "stream",
          "text": [
            "/usr/local/lib/python3.6/dist-packages/torch/nn/functional.py:1558: UserWarning: nn.functional.tanh is deprecated. Use torch.tanh instead.\n",
            "  warnings.warn(\"nn.functional.tanh is deprecated. Use torch.tanh instead.\")\n"
          ],
          "name": "stderr"
        },
        {
          "output_type": "stream",
          "text": [
            "epoch 1, train_loss: 2.693, time elapsed: 48.626643 seconds\n",
            "epoch 2, train_loss: 2.076, time elapsed: 49.116042 seconds\n",
            "epoch 3, train_loss: 1.763, time elapsed: 49.108888 seconds\n",
            "epoch 4, train_loss: 1.590, time elapsed: 49.361555 seconds\n",
            "epoch 5, train_loss: 1.491, time elapsed: 48.517952 seconds\n",
            "epoch 6, train_loss: 1.417, time elapsed: 48.910569 seconds\n",
            "epoch 7, train_loss: 1.357, time elapsed: 48.993975 seconds\n",
            "epoch 8, train_loss: 1.302, time elapsed: 48.239562 seconds\n",
            "epoch 9, train_loss: 1.268, time elapsed: 49.030712 seconds\n",
            "epoch 10, train_loss: 1.226, time elapsed: 48.787176 seconds\n",
            "total training time: 8.145 minutes\n"
          ],
          "name": "stdout"
        }
      ]
    },
    {
      "cell_type": "code",
      "metadata": {
        "id": "YlCwEZ0PNlPe",
        "colab_type": "code",
        "colab": {
          "base_uri": "https://localhost:8080/",
          "height": 124
        },
        "outputId": "ca3dd35c-9aa2-4bff-cf2e-1a08743cd12c"
      },
      "source": [
        "print('Test1:')\n",
        "test_acc1 = test_model_accuracy(model, test_loader1)\n",
        "print('Train1:')\n",
        "train_acc1 = test_model_accuracy(model, train_loader1)"
      ],
      "execution_count": 24,
      "outputs": [
        {
          "output_type": "stream",
          "text": [
            "Test1:\n"
          ],
          "name": "stdout"
        },
        {
          "output_type": "stream",
          "text": [
            "/usr/local/lib/python3.6/dist-packages/torch/nn/functional.py:1558: UserWarning: nn.functional.tanh is deprecated. Use torch.tanh instead.\n",
            "  warnings.warn(\"nn.functional.tanh is deprecated. Use torch.tanh instead.\")\n"
          ],
          "name": "stderr"
        },
        {
          "output_type": "stream",
          "text": [
            "Accuracy: 55.59731543624161%\n",
            "Train1:\n",
            "Accuracy: 55.85422329608376%\n"
          ],
          "name": "stdout"
        }
      ]
    },
    {
      "cell_type": "code",
      "metadata": {
        "id": "jsfBAwHjfl16",
        "colab_type": "code",
        "colab": {
          "base_uri": "https://localhost:8080/",
          "height": 141
        },
        "outputId": "4ae2d922-9676-406b-aaec-942f17b29d9f"
      },
      "source": [
        "print('Test2:')\n",
        "test_model_accuracy(model, test_loader2)\n",
        "print('Train2:')\n",
        "test_model_accuracy(model, train_loader2)"
      ],
      "execution_count": 25,
      "outputs": [
        {
          "output_type": "stream",
          "text": [
            "Test2:\n"
          ],
          "name": "stdout"
        },
        {
          "output_type": "stream",
          "text": [
            "/usr/local/lib/python3.6/dist-packages/torch/nn/functional.py:1558: UserWarning: nn.functional.tanh is deprecated. Use torch.tanh instead.\n",
            "  warnings.warn(\"nn.functional.tanh is deprecated. Use torch.tanh instead.\")\n"
          ],
          "name": "stderr"
        },
        {
          "output_type": "stream",
          "text": [
            "Accuracy: 58.85906040268456%\n",
            "Train2:\n",
            "Accuracy: 59.28051276888486%\n"
          ],
          "name": "stdout"
        },
        {
          "output_type": "execute_result",
          "data": {
            "text/plain": [
              "59.28051276888486"
            ]
          },
          "metadata": {
            "tags": []
          },
          "execution_count": 25
        }
      ]
    },
    {
      "cell_type": "code",
      "metadata": {
        "id": "URNhr4SaNqRG",
        "colab_type": "code",
        "colab": {}
      },
      "source": [
        "#test_classes_acc1 = each_class_model_accuracy(model, test_loader1, classes1)\n",
        "#print('********************************************************************')\n",
        "#train_classes_acc1 = each_class_model_accuracy(model, train_loader1, classes1)"
      ],
      "execution_count": 26,
      "outputs": []
    },
    {
      "cell_type": "code",
      "metadata": {
        "id": "NzrE-NScFMap",
        "colab_type": "code",
        "colab": {
          "base_uri": "https://localhost:8080/",
          "height": 1000
        },
        "outputId": "d002d810-ea0c-46b6-871b-4ac934ef2a6f"
      },
      "source": [
        "test_classes_acc2 = each_class_model_accuracy(model, test_loader2, classes1)\n",
        "print('********************************************************************')\n",
        "train_classes_acc2 = each_class_model_accuracy(model, train_loader2, classes1)"
      ],
      "execution_count": 27,
      "outputs": [
        {
          "output_type": "stream",
          "text": [
            "/usr/local/lib/python3.6/dist-packages/torch/nn/functional.py:1558: UserWarning: nn.functional.tanh is deprecated. Use torch.tanh instead.\n",
            "  warnings.warn(\"nn.functional.tanh is deprecated. Use torch.tanh instead.\")\n"
          ],
          "name": "stderr"
        },
        {
          "output_type": "stream",
          "text": [
            "Accuracy of Class Accessory Gift Set = 68.00%\n",
            "Accuracy of Class Backpacks = 79.00%\n",
            "Accuracy of Class Belts = 84.00%\n",
            "Accuracy of Class Capris = 0.00%\n",
            "Accuracy of Class Caps = 54.00%\n",
            "Accuracy of Class Casual Shoes = 62.00%\n",
            "Accuracy of Class Clutches = 60.00%\n",
            "Accuracy of Class Cufflinks = 4.00%\n",
            "Accuracy of Class Deodorant = 40.00%\n",
            "Accuracy of Class Dresses = 0.00%\n",
            "Accuracy of Class Dupatta = 0.00%\n",
            "Accuracy of Class Earrings = 72.00%\n",
            "Accuracy of Class Flats = 14.00%\n",
            "Accuracy of Class Flip Flops = 41.00%\n",
            "Accuracy of Class Formal Shoes = 84.00%\n",
            "Accuracy of Class Handbags = 83.00%\n",
            "Accuracy of Class Heels = 84.00%\n",
            "Accuracy of Class Innerwear Vests = 0.00%\n",
            "Accuracy of Class Jackets = 9.00%\n",
            "Accuracy of Class Jeans = 71.00%\n",
            "Accuracy of Class Kajal and Eyeliner = 0.00%\n",
            "Accuracy of Class Kurtas = 76.00%\n",
            "Accuracy of Class Kurtis = 0.00%\n",
            "Accuracy of Class Leggings = 2.00%\n",
            "Accuracy of Class Lip Gloss = 24.00%\n",
            "Accuracy of Class Lipstick = 50.00%\n",
            "Accuracy of Class Nail Polish = 90.00%\n",
            "Accuracy of Class Necklace and Chains = 0.00%\n",
            "Accuracy of Class Night suits = 3.00%\n",
            "Accuracy of Class Nightdress = 7.00%\n",
            "Accuracy of Class Pendant = 2.00%\n",
            "Accuracy of Class Perfume and Body Mist = 10.00%\n",
            "Accuracy of Class Ring = 0.00%\n",
            "Accuracy of Class Sandals = 24.00%\n",
            "Accuracy of Class Sarees = 76.00%\n",
            "Accuracy of Class Scarves = 17.00%\n",
            "Accuracy of Class Shirts = 45.00%\n",
            "Accuracy of Class Shorts = 53.00%\n",
            "Accuracy of Class Skirts = 0.00%\n",
            "Accuracy of Class Socks = 64.00%\n",
            "Accuracy of Class Sports Shoes = 44.00%\n",
            "Accuracy of Class Sunglasses = 99.00%\n",
            "Accuracy of Class Sweaters = 12.00%\n",
            "Accuracy of Class Sweatshirts = 0.00%\n",
            "Accuracy of Class Ties = 63.00%\n",
            "Accuracy of Class Tops = 58.00%\n",
            "Accuracy of Class Track Pants = 21.00%\n",
            "Accuracy of Class Trousers = 66.00%\n",
            "Accuracy of Class Tshirts = 72.00%\n",
            "Accuracy of Class Tunics = 0.00%\n",
            "Accuracy of Class Wallets = 80.00%\n",
            "Accuracy of Class Watches = 90.00%\n",
            "********************************************************************\n"
          ],
          "name": "stdout"
        },
        {
          "output_type": "stream",
          "text": [
            "/pytorch/aten/src/ATen/native/BinaryOps.cpp:81: UserWarning: Integer division of tensors using div or / is deprecated, and in a future release div will perform true division as in Python 3. Use true_divide or floor_divide (// in Python) instead.\n"
          ],
          "name": "stderr"
        },
        {
          "output_type": "stream",
          "text": [
            "Accuracy of Class Accessory Gift Set = 60.00%\n",
            "Accuracy of Class Backpacks = 85.00%\n",
            "Accuracy of Class Belts = 86.00%\n",
            "Accuracy of Class Capris = 0.00%\n",
            "Accuracy of Class Caps = 57.00%\n",
            "Accuracy of Class Casual Shoes = 64.00%\n",
            "Accuracy of Class Clutches = 60.00%\n",
            "Accuracy of Class Cufflinks = 12.00%\n",
            "Accuracy of Class Deodorant = 38.00%\n",
            "Accuracy of Class Dresses = 2.00%\n",
            "Accuracy of Class Dupatta = 0.00%\n",
            "Accuracy of Class Earrings = 67.00%\n",
            "Accuracy of Class Flats = 18.00%\n",
            "Accuracy of Class Flip Flops = 44.00%\n",
            "Accuracy of Class Formal Shoes = 89.00%\n",
            "Accuracy of Class Handbags = 81.00%\n",
            "Accuracy of Class Heels = 85.00%\n",
            "Accuracy of Class Innerwear Vests = 0.00%\n",
            "Accuracy of Class Jackets = 11.00%\n",
            "Accuracy of Class Jeans = 73.00%\n",
            "Accuracy of Class Kajal and Eyeliner = 0.00%\n",
            "Accuracy of Class Kurtas = 78.00%\n",
            "Accuracy of Class Kurtis = 0.00%\n",
            "Accuracy of Class Leggings = 1.00%\n",
            "Accuracy of Class Lip Gloss = 19.00%\n",
            "Accuracy of Class Lipstick = 53.00%\n",
            "Accuracy of Class Nail Polish = 86.00%\n",
            "Accuracy of Class Necklace and Chains = 0.00%\n",
            "Accuracy of Class Night suits = 5.00%\n",
            "Accuracy of Class Nightdress = 8.00%\n",
            "Accuracy of Class Pendant = 0.00%\n",
            "Accuracy of Class Perfume and Body Mist = 11.00%\n",
            "Accuracy of Class Ring = 0.00%\n",
            "Accuracy of Class Sandals = 19.00%\n",
            "Accuracy of Class Sarees = 71.00%\n",
            "Accuracy of Class Scarves = 5.00%\n",
            "Accuracy of Class Shirts = 44.00%\n",
            "Accuracy of Class Shorts = 53.00%\n",
            "Accuracy of Class Skirts = 0.00%\n",
            "Accuracy of Class Socks = 67.00%\n",
            "Accuracy of Class Sports Shoes = 49.00%\n",
            "Accuracy of Class Sunglasses = 97.00%\n",
            "Accuracy of Class Sweaters = 14.00%\n",
            "Accuracy of Class Sweatshirts = 2.00%\n",
            "Accuracy of Class Ties = 66.00%\n",
            "Accuracy of Class Tops = 58.00%\n",
            "Accuracy of Class Track Pants = 17.00%\n",
            "Accuracy of Class Trousers = 54.00%\n",
            "Accuracy of Class Tshirts = 73.00%\n",
            "Accuracy of Class Tunics = 0.00%\n",
            "Accuracy of Class Wallets = 76.00%\n",
            "Accuracy of Class Watches = 89.00%\n"
          ],
          "name": "stdout"
        }
      ]
    },
    {
      "cell_type": "code",
      "metadata": {
        "id": "GZaiEao-BPwm",
        "colab_type": "code",
        "colab": {
          "base_uri": "https://localhost:8080/",
          "height": 466
        },
        "outputId": "a3de4f0b-ba9c-42e3-9dec-63ded692ac58"
      },
      "source": [
        "\n",
        "X = np.arange(len(classes1))\n",
        "print(X)\n",
        "fig = plt.figure(figsize=(len(classes1)*2, len(classes1) / 2))\n",
        "\n",
        "plt.bar(X + 0.00, train_classes_acc2, color = 'r', width = 0.25 ,label='train')\n",
        "plt.bar(X + 0.25, test_classes_acc2, color = 'g', width = 0.25, label='test')\n",
        "\n",
        "\n",
        "# Add some text for labels, title and custom x-axis tick labels, etc.\n",
        "plt.ylabel('Acurracy')\n",
        "plt.title('Acurracy of Classes')\n",
        "plt.xticks(X, classes1)\n",
        "plt.legend()\n",
        "plt.show()"
      ],
      "execution_count": 28,
      "outputs": [
        {
          "output_type": "stream",
          "text": [
            "[ 0  1  2  3  4  5  6  7  8  9 10 11 12 13 14 15 16 17 18 19 20 21 22 23\n",
            " 24 25 26 27 28 29 30 31 32 33 34 35 36 37 38 39 40 41 42 43 44 45 46 47\n",
            " 48 49 50 51]\n"
          ],
          "name": "stdout"
        },
        {
          "output_type": "display_data",
          "data": {
            "image/png": "[encoded data removed]",
            "text/plain": [
              "<Figure size 7488x1872 with 1 Axes>"
            ]
          },
          "metadata": {
            "tags": [],
            "needs_background": "light"
          }
        }
      ]
    },
    {
      "cell_type": "code",
      "metadata": {
        "id": "GNFpua-ORoxL",
        "colab_type": "code",
        "colab": {
          "base_uri": "https://localhost:8080/",
          "height": 313
        },
        "outputId": "50eaf7cb-66e1-4b00-a8c2-0b654c183eea"
      },
      "source": [
        "epoch = 10\n",
        "epoch_list = list(range(epoch))\n",
        "print(loss_array2)\n",
        "plt.plot(epoch_list, loss_array2) \n",
        "plt.xlabel('Epoch - axis') \n",
        "plt.ylabel('Loss - axis') \n",
        "plt.title('Loss graph') \n",
        "plt.show() "
      ],
      "execution_count": 29,
      "outputs": [
        {
          "output_type": "stream",
          "text": [
            "[2.6926134788938856, 2.0762122061119572, 1.7631060414559852, 1.5898897069718194, 1.4912210958710044, 1.4168031919156021, 1.357452153647918, 1.3022337552048107, 1.2675237053197852, 1.2258818799334024]\n"
          ],
          "name": "stdout"
        },
        {
          "output_type": "display_data",
          "data": {
            "image/png": "[encoded data removed]",
            "text/plain": [
              "<Figure size 432x288 with 1 Axes>"
            ]
          },
          "metadata": {
            "tags": [],
            "needs_background": "light"
          }
        }
      ]
    },
    {
      "cell_type": "code",
      "metadata": {
        "id": "SPWAxDhNfmgr",
        "colab_type": "code",
        "colab": {
          "base_uri": "https://localhost:8080/",
          "height": 355
        },
        "outputId": "15b3f418-6acf-47de-f9bd-a1306db4308c"
      },
      "source": [
        "model_parameter(model)"
      ],
      "execution_count": 30,
      "outputs": [
        {
          "output_type": "stream",
          "text": [
            "+---------------+----------+\n",
            "|   Parmeters   |  Values  |\n",
            "+---------------+----------+\n",
            "| layer1.weight | 23040000 |\n",
            "|  layer1.bias  |   4800   |\n",
            "| layer2.weight | 28800000 |\n",
            "|  layer2.bias  |   6000   |\n",
            "| layer3.weight | 45000000 |\n",
            "|  layer3.bias  |   7500   |\n",
            "| layer4.weight | 22500000 |\n",
            "|  layer4.bias  |   3000   |\n",
            "| layer5.weight | 5760000  |\n",
            "|  layer5.bias  |   1920   |\n",
            "| layer6.weight |  384000  |\n",
            "|  layer6.bias  |   200    |\n",
            "| layer7.weight |  10400   |\n",
            "|  layer7.bias  |    52    |\n",
            "+---------------+----------+\n",
            "Total Train Variables = 125517872\n"
          ],
          "name": "stdout"
        }
      ]
    }
  ]
}